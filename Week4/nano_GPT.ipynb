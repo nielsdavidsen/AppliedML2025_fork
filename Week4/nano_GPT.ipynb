{
  "cells": [
    {
      "cell_type": "markdown",
      "metadata": {
        "id": "1Lyw35ahWTsk"
      },
      "source": [
        "[![Open In Colab](https://colab.research.google.com/assets/colab-badge.svg)](https://colab.research.google.com/github/troelspetersen/AppliedML2025_InstructorsFolder/blob/main/Week4/nano_GPT.ipynb)\n",
        "\n",
        "# Building a Character-Level Shakespearean Transformer (nano-GPT)\n",
        "\n",
        "Welcome to this hands-on exercise where we'll build and train a miniature version of a Generative Pre-trained Transformer (GPT) model.\n",
        "\n",
        "This notebook is heavily inspired by and simplifies Andrej Karpathy's fantastic [nanoGPT repository](https://github.com/karpathy/nanoGPT). Our goal is to strip down the complexity to the bare essentials needed to understand the core concepts and train a character-level language model on the works of Shakespeare.\n",
        "\n",
        "**Why is this exciting?**\n",
        "The Transformer architecture, which we'll be implementing, is the foundation of modern Large Language Models (LLMs). While our model will be much smaller, the fundamental building blocks (like self-attention, positional embeddings, and decoder blocks) are conceptually very similar to those in models like GPT-3, which powered the original ChatGPT. By building this \"baby GPT,\" you'll gain a much deeper intuition for how these incredible models work.\n",
        "\n",
        "**What we'll do:**\n",
        "1.  **Data Preparation:** Load Shakespeare's text and create a character-level tokenizer.\n",
        "2.  **Model Definition:** Implement the GPT architecture from scratch, including self-attention and transformer blocks.\n",
        "3.  **Training:** Write a simple training loop to teach our model to predict the next character in a sequence.\n",
        "4.  **Generation:** Use our trained model to generate new, Shakespeare-like text.\n",
        "\n",
        "Make sure your Colab runtime is set to use a GPU for faster training (Runtime -> Change runtime type -> GPU)."
      ]
    },
    {
      "cell_type": "code",
      "execution_count": 1,
      "metadata": {
        "colab": {
          "base_uri": "https://localhost:8080/"
        },
        "id": "AdGxvM88P90L",
        "outputId": "98e3954c-ebde-4b20-c365-706737c019f4"
      },
      "outputs": [
        {
          "name": "stdout",
          "output_type": "stream",
          "text": [
            "Using device: cuda\n"
          ]
        }
      ],
      "source": [
        "import os\n",
        "import requests\n",
        "import time\n",
        "import math\n",
        "from dataclasses import dataclass\n",
        "import pickle # For saving/loading meta later if needed, though not strictly for tokenizer now\n",
        "\n",
        "import torch\n",
        "import torch.nn as nn\n",
        "from torch.nn import functional as F\n",
        "import numpy as np\n",
        "from tqdm import tqdm # For progress bars\n",
        "\n",
        "# --- Hyperparameters ---\n",
        "BATCH_SIZE = 64\n",
        "BLOCK_SIZE = 256  # Context length\n",
        "MAX_ITERS = 5000\n",
        "EVAL_INTERVAL = 250\n",
        "LEARNING_RATE = 3e-4 # Adjusted from 1e-3, often 3e-4 is a good starting point\n",
        "DEVICE = 'cuda' if torch.cuda.is_available() else 'cpu'\n",
        "N_EMBD = 384\n",
        "N_HEAD = 6\n",
        "N_LAYER = 6\n",
        "DROPOUT = 0.2\n",
        "# AdamW optimizer betas\n",
        "BETA1 = 0.9\n",
        "BETA2 = 0.95\n",
        "# Early stopping\n",
        "EARLY_STOPPING_PATIENCE = 5 # Number of evaluation intervals to wait\n",
        "EVAL_ITERS_FOR_LOSS = 100 # Number of batches to average for loss estimation\n",
        "\n",
        "# For reproducibility\n",
        "torch.manual_seed(1337)\n",
        "if torch.cuda.is_available():\n",
        "    torch.cuda.manual_seed_all(1337)\n",
        "\n",
        "print(f\"Using device: {DEVICE}\")"
      ]
    },
    {
      "cell_type": "markdown",
      "metadata": {
        "id": "BGA8_ajuWrJ0"
      },
      "source": [
        "## 1. Data Loading and Tokenization\n",
        "\n",
        "The first step in any machine learning project is to prepare the data. For our character-level language model, this involves:\n",
        "1.  **Downloading the Data:** We'll use the \"Tiny Shakespeare\" dataset, which contains a collection of Shakespeare's works.\n",
        "2.  **Creating a Vocabulary:** We'll identify all unique characters present in the text. This set of unique characters will form our vocabulary.\n",
        "3.  **Building a Tokenizer:** We'll create two simple functions:\n",
        "    *   `encode`: Converts a string of characters into a list of corresponding integer IDs (tokens).\n",
        "    *   `decode`: Converts a list of integer IDs back into a string of characters.\n",
        "4.  **Splitting the Data:** We'll divide the dataset into a training set (for teaching the model) and a validation set (for evaluating its performance on unseen data)."
      ]
    },
    {
      "cell_type": "code",
      "execution_count": 2,
      "metadata": {
        "colab": {
          "base_uri": "https://localhost:8080/"
        },
        "id": "I-aKr2lTRHv4",
        "outputId": "4276af35-f168-41f9-a013-748c46490d29"
      },
      "outputs": [
        {
          "name": "stdout",
          "output_type": "stream",
          "text": [
            "input.txt already exists.\n",
            "Length of dataset in characters: 1,115,394\n",
            "All unique characters: \n",
            " !$&',-.3:;?ABCDEFGHIJKLMNOPQRSTUVWXYZabcdefghijklmnopqrstuvwxyz\n",
            "Vocabulary size: 65\n",
            "Train data has 1,003,854 tokens\n",
            "Validation data has 111,540 tokens\n"
          ]
        }
      ],
      "source": [
        "# --- 1. Data Loading and Tokenization ---\n",
        "input_file_path = 'input.txt'\n",
        "data_url = 'https://raw.githubusercontent.com/karpathy/char-rnn/master/data/tinyshakespeare/input.txt'\n",
        "\n",
        "if not os.path.exists(input_file_path):\n",
        "    print(f\"Downloading {input_file_path}...\")\n",
        "    with open(input_file_path, 'w', encoding='utf-8') as f:\n",
        "        f.write(requests.get(data_url).text)\n",
        "    print(\"Download complete.\")\n",
        "else:\n",
        "    print(f\"{input_file_path} already exists.\")\n",
        "\n",
        "with open(input_file_path, 'r', encoding='utf-8') as f:\n",
        "    data = f.read()\n",
        "print(f\"Length of dataset in characters: {len(data):,}\")\n",
        "\n",
        "# Get all unique characters\n",
        "chars = sorted(list(set(data)))\n",
        "vocab_size = len(chars)\n",
        "print(\"All unique characters:\", ''.join(chars))\n",
        "print(f\"Vocabulary size: {vocab_size:,}\")\n",
        "\n",
        "# Create mappings from characters to integers and vice-versa\n",
        "stoi = {ch: i for i, ch in enumerate(chars)}\n",
        "itos = {i: ch for i, ch in enumerate(chars)}\n",
        "\n",
        "# Encoder: take a string, output a list of integers\n",
        "def encode(s):\n",
        "    return [stoi[c] for c in s]\n",
        "\n",
        "# Decoder: take a list of integers, output a string\n",
        "def decode(l):\n",
        "    return ''.join([itos[i] for i in l])\n",
        "\n",
        "# Create train and validation splits\n",
        "n = len(data)\n",
        "train_text = data[:int(n * 0.9)]\n",
        "val_text = data[int(n * 0.9):]\n",
        "\n",
        "# Encode the text and convert to PyTorch tensors\n",
        "train_data = torch.tensor(encode(train_text), dtype=torch.long)\n",
        "val_data = torch.tensor(encode(val_text), dtype=torch.long)\n",
        "\n",
        "print(f\"Train data has {len(train_data):,} tokens\")\n",
        "print(f\"Validation data has {len(val_data):,} tokens\")"
      ]
    },
    {
      "cell_type": "code",
      "execution_count": 3,
      "metadata": {
        "colab": {
          "base_uri": "https://localhost:8080/"
        },
        "id": "cco935wtRLmE",
        "outputId": "adac6572-f9ff-4475-a949-7a72dbc5941d"
      },
      "outputs": [
        {
          "name": "stdout",
          "output_type": "stream",
          "text": [
            "Original text: 'Hello, World! This is a test.'\n",
            "Encoded text: [20, 43, 50, 50, 53, 6, 1, 35, 53, 56, 50, 42, 2, 1, 32, 46, 47, 57, 1, 47, 57, 1, 39, 1, 58, 43, 57, 58, 8]\n",
            "Decoded text: 'Hello, World! This is a test.'\n",
            "Tokenizer test passed!\n"
          ]
        }
      ],
      "source": [
        "# --- Tokenizer Experimentation ---\n",
        "sample_text = \"Hello, World! This is a test.\"\n",
        "print(f\"Original text: '{sample_text}'\")\n",
        "\n",
        "encoded_sample = encode(sample_text)\n",
        "print(f\"Encoded text: {encoded_sample}\")\n",
        "\n",
        "decoded_sample = decode(encoded_sample)\n",
        "print(f\"Decoded text: '{decoded_sample}'\")\n",
        "\n",
        "assert sample_text == decoded_sample, \"Encoding/Decoding mismatch!\"\n",
        "print(\"Tokenizer test passed!\")"
      ]
    },
    {
      "cell_type": "code",
      "execution_count": 4,
      "metadata": {
        "colab": {
          "base_uri": "https://localhost:8080/"
        },
        "id": "3ihert8KRQvf",
        "outputId": "93d4dc3a-0306-41d0-a68e-2ecc91a81cb4"
      },
      "outputs": [
        {
          "name": "stdout",
          "output_type": "stream",
          "text": [
            "Input batch shape: torch.Size([64, 256])\n",
            "Target batch shape: torch.Size([64, 256])\n",
            "First sequence in input batch (first 30 tokens): \n",
            "Not Gloucester's death, nor H\n",
            "First sequence in target batch (first 30 tokens): Not Gloucester's death, nor He\n"
          ]
        }
      ],
      "source": [
        "# --- Data Loader ---\n",
        "def get_batch(split):\n",
        "    # Selects the appropriate dataset (train or val)\n",
        "    data_source = train_data if split == 'train' else val_data\n",
        "    # Generates random starting indices for batch_size sequences\n",
        "    ix = torch.randint(len(data_source) - BLOCK_SIZE, (BATCH_SIZE,))\n",
        "    # Extracts input sequences (x)\n",
        "    x = torch.stack([data_source[i:i+BLOCK_SIZE] for i in ix])\n",
        "    # Extracts target sequences (y), which are shifted by one character\n",
        "    y = torch.stack([data_source[i+1:i+BLOCK_SIZE+1] for i in ix])\n",
        "    # Move data to the specified device (CPU or GPU)\n",
        "    x, y = x.to(DEVICE), y.to(DEVICE)\n",
        "    return x, y\n",
        "\n",
        "# Test get_batch\n",
        "xb, yb = get_batch('train')\n",
        "print(\"Input batch shape:\", xb.shape)\n",
        "print(\"Target batch shape:\", yb.shape)\n",
        "print(\"First sequence in input batch (first 30 tokens):\", decode(xb[0][:30].tolist()))\n",
        "print(\"First sequence in target batch (first 30 tokens):\", decode(yb[0][:30].tolist()))"
      ]
    },
    {
      "cell_type": "markdown",
      "metadata": {
        "id": "DW9lylKWW1ao"
      },
      "source": [
        "## 2. Model Definition: The Transformer Architecture\n",
        "\n",
        "Now for the exciting part: building our GPT model! We'll implement the core components of the Transformer architecture, specifically the \"decoder-only\" variant used in GPT models.\n",
        "\n",
        "Key components we will define:\n",
        "*   **`GPTConfig`**: A dataclass to hold all our model hyperparameters (like vocabulary size, embedding dimension, number of layers, etc.).\n",
        "*   **`LayerNorm`**: A normalization layer crucial for stabilizing training in deep networks.\n",
        "*   **`CausalSelfAttention`**: The heart of the Transformer! This module allows each token in a sequence to \"attend\" to previous tokens (but not future ones, hence \"causal\") to understand context. We'll implement the scaled dot-product attention mechanism.\n",
        "*   **`MLP` (Multi-Layer Perceptron)**: A simple feed-forward network applied after the attention mechanism in each Transformer block.\n",
        "*   **`Block`**: A single Transformer block, which typically consists of a self-attention layer followed by an MLP, with residual connections and layer normalization.\n",
        "*   **`GPT`**: The main model class that stacks multiple `Block`s, includes token and positional embeddings, and a final linear layer to predict the next token.\n",
        "\n",
        "We'll also explore the model's output *before* any training to understand its initial (random) state and the expected initial loss."
      ]
    },
    {
      "cell_type": "code",
      "execution_count": 5,
      "metadata": {
        "id": "5nODNxK-RUdE"
      },
      "outputs": [],
      "source": [
        "# --- 2. Model Definition ---\n",
        "\n",
        "@dataclass\n",
        "class GPTConfig:\n",
        "    block_size: int = BLOCK_SIZE\n",
        "    vocab_size: int = vocab_size # Will be set by loaded data\n",
        "    n_layer: int = N_LAYER\n",
        "    n_head: int = N_HEAD\n",
        "    n_embd: int = N_EMBD\n",
        "    dropout: float = DROPOUT\n",
        "    bias: bool = True # True: bias in Linears and LayerNorms\n",
        "\n",
        "class LayerNorm(nn.Module):\n",
        "    \"\"\" LayerNorm but with an optional bias. \"\"\"\n",
        "    def __init__(self, ndim, bias):\n",
        "        super().__init__()\n",
        "        self.weight = nn.Parameter(torch.ones(ndim))\n",
        "        self.bias = nn.Parameter(torch.zeros(ndim)) if bias else None\n",
        "\n",
        "    def forward(self, input):\n",
        "        return F.layer_norm(input, self.weight.shape, self.weight, self.bias, 1e-5)\n",
        "\n",
        "class CausalSelfAttention(nn.Module):\n",
        "    def __init__(self, config):\n",
        "        super().__init__()\n",
        "        assert config.n_embd % config.n_head == 0\n",
        "        # Key, query, value projections for all heads, but in a batch\n",
        "        self.c_attn = nn.Linear(config.n_embd, 3 * config.n_embd, bias=config.bias)\n",
        "        # Output projection\n",
        "        self.c_proj = nn.Linear(config.n_embd, config.n_embd, bias=config.bias)\n",
        "        # Regularization\n",
        "        self.attn_dropout = nn.Dropout(config.dropout)\n",
        "        self.resid_dropout = nn.Dropout(config.dropout)\n",
        "        self.n_head = config.n_head\n",
        "        self.n_embd = config.n_embd\n",
        "\n",
        "        # Causal mask to ensure that attention is only applied to the left in the input sequence\n",
        "        # We use register_buffer for parameters that should be part of the model's state\n",
        "        # but are not trained by the optimizer (e.g., a fixed mask).\n",
        "        self.register_buffer(\"bias\", torch.tril(torch.ones(config.block_size, config.block_size))\n",
        "                                    .view(1, 1, config.block_size, config.block_size))\n",
        "\n",
        "    def forward(self, x):\n",
        "        B, T, C = x.size() # batch size, sequence length, embedding dimensionality (n_embd)\n",
        "\n",
        "        # Calculate query, key, values for all heads in batch and move head forward to be the batch dim\n",
        "        q, k, v  = self.c_attn(x).split(self.n_embd, dim=2)\n",
        "        k = k.view(B, T, self.n_head, C // self.n_head).transpose(1, 2) # (B, nh, T, hs)\n",
        "        q = q.view(B, T, self.n_head, C // self.n_head).transpose(1, 2) # (B, nh, T, hs)\n",
        "        v = v.view(B, T, self.n_head, C // self.n_head).transpose(1, 2) # (B, nh, T, hs)\n",
        "\n",
        "        # Manual implementation of attention\n",
        "        # (B, nh, T, hs) x (B, nh, hs, T) -> (B, nh, T, T)\n",
        "        att = (q @ k.transpose(-2, -1)) * (1.0 / math.sqrt(k.size(-1)))\n",
        "        att = att.masked_fill(self.bias[:,:,:T,:T] == 0, float('-inf')) # Apply causal mask\n",
        "        att = F.softmax(att, dim=-1)\n",
        "        att = self.attn_dropout(att)\n",
        "        # (B, nh, T, T) x (B, nh, T, hs) -> (B, nh, T, hs)\n",
        "        y = att @ v\n",
        "        y = y.transpose(1, 2).contiguous().view(B, T, C) # Re-assemble all head outputs side by side\n",
        "\n",
        "        # Output projection\n",
        "        y = self.resid_dropout(self.c_proj(y))\n",
        "        return y\n",
        "\n",
        "class MLP(nn.Module):\n",
        "    def __init__(self, config):\n",
        "        super().__init__()\n",
        "        self.c_fc    = nn.Linear(config.n_embd, 4 * config.n_embd, bias=config.bias)\n",
        "        self.gelu    = nn.GELU() # Using GELU activation\n",
        "        self.c_proj  = nn.Linear(4 * config.n_embd, config.n_embd, bias=config.bias)\n",
        "        self.dropout = nn.Dropout(config.dropout)\n",
        "\n",
        "    def forward(self, x):\n",
        "        x = self.c_fc(x)\n",
        "        x = self.gelu(x)\n",
        "        x = self.c_proj(x)\n",
        "        x = self.dropout(x)\n",
        "        return x\n",
        "\n",
        "class Block(nn.Module):\n",
        "    \"\"\" Transformer block: communication followed by computation \"\"\"\n",
        "    def __init__(self, config):\n",
        "        super().__init__()\n",
        "        self.ln_1 = LayerNorm(config.n_embd, bias=config.bias)\n",
        "        self.attn = CausalSelfAttention(config)\n",
        "        self.ln_2 = LayerNorm(config.n_embd, bias=config.bias)\n",
        "        self.mlp = MLP(config)\n",
        "\n",
        "    def forward(self, x):\n",
        "        x = x + self.attn(self.ln_1(x))  # Attention with residual connection\n",
        "        x = x + self.mlp(self.ln_2(x))   # MLP with residual connection\n",
        "        return x"
      ]
    },
    {
      "cell_type": "code",
      "execution_count": 6,
      "metadata": {
        "id": "Zy_tgqySRgax"
      },
      "outputs": [],
      "source": [
        "class GPT(nn.Module):\n",
        "    def __init__(self, config):\n",
        "        super().__init__()\n",
        "        assert config.vocab_size is not None\n",
        "        assert config.block_size is not None\n",
        "        self.config = config\n",
        "\n",
        "        self.transformer = nn.ModuleDict(dict(\n",
        "            wte = nn.Embedding(config.vocab_size, config.n_embd),      # Token embeddings\n",
        "            wpe = nn.Embedding(config.block_size, config.n_embd),     # Positional embeddings\n",
        "            drop = nn.Dropout(config.dropout),                        # Dropout layer\n",
        "            h = nn.ModuleList([Block(config) for _ in range(config.n_layer)]), # Transformer blocks\n",
        "            ln_f = LayerNorm(config.n_embd, bias=config.bias),        # Final layer norm\n",
        "        ))\n",
        "        self.lm_head = nn.Linear(config.n_embd, config.vocab_size, bias=False) # Language model head\n",
        "\n",
        "        # Weight tying: token embeddings and final linear layer share weights\n",
        "        self.transformer.wte.weight = self.lm_head.weight\n",
        "\n",
        "        # Initialize weights\n",
        "        self.apply(self._init_weights)\n",
        "        # Apply special scaled init to the residual projections, per GPT-2 paper\n",
        "        for pn, p in self.named_parameters():\n",
        "            if pn.endswith('c_proj.weight'):\n",
        "                torch.nn.init.normal_(p, mean=0.0, std=0.02/math.sqrt(2 * config.n_layer))\n",
        "\n",
        "        num_params = sum(p.numel() for p in self.parameters() if p.requires_grad)\n",
        "        print(f\"Number of trainable parameters: {num_params/1e6:.2f}M\")\n",
        "\n",
        "    def _init_weights(self, module):\n",
        "        if isinstance(module, nn.Linear):\n",
        "            torch.nn.init.normal_(module.weight, mean=0.0, std=0.02)\n",
        "            if module.bias is not None:\n",
        "                torch.nn.init.zeros_(module.bias)\n",
        "        elif isinstance(module, nn.Embedding):\n",
        "            torch.nn.init.normal_(module.weight, mean=0.0, std=0.02)\n",
        "\n",
        "    def forward(self, idx, targets=None):\n",
        "        device = idx.device\n",
        "        b, t = idx.size() # Batch size, sequence length\n",
        "        assert t <= self.config.block_size, f\"Cannot forward sequence of length {t}, block size is only {self.config.block_size}\"\n",
        "        pos = torch.arange(0, t, dtype=torch.long, device=device) # Shape (t)\n",
        "\n",
        "        # Forward the GPT model\n",
        "        tok_emb = self.transformer.wte(idx) # Token embeddings of shape (b, t, n_embd)\n",
        "        pos_emb = self.transformer.wpe(pos) # Position embeddings of shape (t, n_embd)\n",
        "        x = self.transformer.drop(tok_emb + pos_emb)\n",
        "        for block in self.transformer.h:\n",
        "            x = block(x)\n",
        "        x = self.transformer.ln_f(x)\n",
        "\n",
        "        if targets is not None:\n",
        "            # If we are given some desired targets also calculate the loss\n",
        "            logits = self.lm_head(x) # (b, t, vocab_size)\n",
        "            loss = F.cross_entropy(logits.view(-1, logits.size(-1)), targets.view(-1))\n",
        "        else:\n",
        "            # Inference-time optimization: only forward the lm_head on the very last position\n",
        "            logits = self.lm_head(x[:, [-1], :]) # Note: using list [-1] to preserve the time dim -> (b, 1, vocab_size)\n",
        "            loss = None\n",
        "        return logits, loss\n",
        "\n",
        "    @torch.no_grad()\n",
        "    def generate(self, idx, max_new_tokens, temperature=1.0, top_k=None):\n",
        "        \"\"\"\n",
        "        Take a conditioning sequence of indices idx (LongTensor of shape (b,t)) and complete\n",
        "        the sequence max_new_tokens times, feeding the predictions back into the model each time.\n",
        "        \"\"\"\n",
        "        self.eval() # Set model to evaluation mode\n",
        "        for _ in range(max_new_tokens):\n",
        "            # If the sequence context is growing too long, crop it at block_size\n",
        "            idx_cond = idx if idx.size(1) <= self.config.block_size else idx[:, -self.config.block_size:]\n",
        "            # Forward the model to get the logits for the index in the sequence\n",
        "            logits, _ = self(idx_cond) # Loss is None during generation\n",
        "            # Pluck the logits at the final step and scale by desired temperature\n",
        "            logits = logits[:, -1, :] / temperature\n",
        "            # Optionally crop the logits to only the top k options\n",
        "            if top_k is not None:\n",
        "                v, _ = torch.topk(logits, min(top_k, logits.size(-1)))\n",
        "                logits[logits < v[:, [-1]]] = -float('Inf') # Mask non-top-k logits\n",
        "            # Apply softmax to convert logits to (normalized) probabilities\n",
        "            probs = F.softmax(logits, dim=-1)\n",
        "            # Sample from the distribution\n",
        "            idx_next = torch.multinomial(probs, num_samples=1)\n",
        "            # Append sampled index to the running sequence and continue\n",
        "            idx = torch.cat((idx, idx_next), dim=1)\n",
        "        self.train() # Set model back to training mode if used elsewhere\n",
        "        return idx"
      ]
    },
    {
      "cell_type": "code",
      "execution_count": 7,
      "metadata": {
        "colab": {
          "base_uri": "https://localhost:8080/"
        },
        "id": "4WVoHathRq0E",
        "outputId": "1d615d8f-0d2e-4913-9cd5-049737fe0f0b"
      },
      "outputs": [
        {
          "name": "stdout",
          "output_type": "stream",
          "text": [
            "Number of trainable parameters: 10.77M\n",
            "--- Before Training ---\n",
            "Logits shape: torch.Size([64, 256, 65])\n",
            "Initial loss: 4.285391330718994\n",
            "Expected initial loss (approx -ln(1/vocab_size)): 4.1744\n",
            "Logits for the first token prediction in the first sequence (first 10 values): tensor([ 0.0880, -1.0848,  0.1741,  0.4192, -0.1020, -0.2917, -0.1435, -0.2548,\n",
            "        -0.5986,  0.0692], device='cuda:0', grad_fn=<SliceBackward0>)\n"
          ]
        }
      ],
      "source": [
        "# --- Model Initialization and Initial Exploration ---\n",
        "\n",
        "# Create GPTConfig instance\n",
        "model_config = GPTConfig(vocab_size=vocab_size, block_size=BLOCK_SIZE,\n",
        "                         n_layer=N_LAYER, n_head=N_HEAD, n_embd=N_EMBD, dropout=DROPOUT)\n",
        "\n",
        "# Instantiate the model\n",
        "model = GPT(model_config)\n",
        "model.to(DEVICE)\n",
        "\n",
        "# Get a batch of data\n",
        "xb, yb = get_batch('train')\n",
        "\n",
        "print(\"--- Before Training ---\")\n",
        "# Pass the batch through the UNTRAINED model\n",
        "logits, loss = model(xb, yb)\n",
        "\n",
        "print(\"Logits shape:\", logits.shape) # Should be (BATCH_SIZE, BLOCK_SIZE, vocab_size)\n",
        "print(\"Initial loss:\", loss.item())\n",
        "\n",
        "# For a randomly initialized model, the loss should be roughly -ln(1/vocab_size)\n",
        "# This is because the model initially assigns roughly equal probability to each token in the vocabulary.\n",
        "# The cross-entropy loss for a uniform distribution over V classes is -sum( (1/V) * log(1/V) ) = -V * (1/V) * log(1/V) = -log(1/V) = log(V)\n",
        "expected_loss = -math.log(1.0 / vocab_size)\n",
        "print(f\"Expected initial loss (approx -ln(1/vocab_size)): {expected_loss:.4f}\")\n",
        "# The actual initial loss will vary due to specific weight initialization but should be in this ballpark.\n",
        "\n",
        "# Let's look at the logits for the first token prediction in the first sequence\n",
        "first_token_logits = logits[0, 0, :]\n",
        "print(\"Logits for the first token prediction in the first sequence (first 10 values):\", first_token_logits[:10])\n",
        "# These are raw, unnormalized scores for each possible next character.\n",
        "# After softmax, these would turn into probabilities."
      ]
    },
    {
      "cell_type": "code",
      "execution_count": 8,
      "metadata": {
        "id": "ZNucyqirRtaZ"
      },
      "outputs": [],
      "source": [
        "# --- Evaluation Function ---\n",
        "@torch.no_grad() # Decorator to disable gradient calculations during evaluation\n",
        "def estimate_loss(model_to_eval):\n",
        "    out = {}\n",
        "    model_to_eval.eval() # Set the model to evaluation mode\n",
        "    for split in ['train', 'val']:\n",
        "        losses = torch.zeros(EVAL_ITERS_FOR_LOSS) # Array to store losses for averaging\n",
        "        for k in range(EVAL_ITERS_FOR_LOSS):\n",
        "            X, Y = get_batch(split)\n",
        "            _, current_loss = model_to_eval(X, Y)\n",
        "            losses[k] = current_loss.item()\n",
        "        out[split] = losses.mean() # Average loss over EVAL_ITERS_FOR_LOSS batches\n",
        "    model_to_eval.train() # Set the model back to training mode\n",
        "    return out"
      ]
    },
    {
      "cell_type": "markdown",
      "metadata": {
        "id": "T0Chb-oYW_2W"
      },
      "source": [
        "## 3. Training the Model\n",
        "\n",
        "With our data prepared and model defined, it's time to train! The training process involves:\n",
        "1.  **Loss Estimation:** We'll define a helper function (`estimate_loss`) to calculate the model's performance (cross-entropy loss) on both the training and validation sets without updating its weights. This helps us monitor learning and detect overfitting.\n",
        "2.  **Optimizer:** We'll use the AdamW optimizer, a common choice for training Transformers.\n",
        "3.  **Training Loop:**\n",
        "    *   Repeatedly sample batches of data.\n",
        "    *   Perform a **forward pass**: Feed the input batch to the model to get predictions (logits) and calculate the loss.\n",
        "    *   Perform a **backward pass**: Calculate gradients of the loss with respect to the model's parameters.\n",
        "    *   **Update parameters**: Adjust the model's weights using the optimizer to minimize the loss.\n",
        "4.  **Evaluation & Checkpointing:** Periodically, we'll evaluate the model on the validation set. If the validation loss improves, we'll save a \"checkpoint\" of the model's weights.\n",
        "5.  **Early Stopping:** If the validation loss stops improving for a certain number of evaluations, we'll stop training to prevent overfitting.\n",
        "\n",
        "We'll use `tqdm` to display a progress bar during training."
      ]
    },
    {
      "cell_type": "code",
      "execution_count": 9,
      "metadata": {
        "colab": {
          "base_uri": "https://localhost:8080/"
        },
        "id": "-g-m4EsXR64X",
        "outputId": "c242293f-8ff1-49bf-ea98-4ce2a00551aa"
      },
      "outputs": [
        {
          "name": "stdout",
          "output_type": "stream",
          "text": [
            "Starting training on cuda...\n"
          ]
        },
        {
          "name": "stderr",
          "output_type": "stream",
          "text": [
            "Training Progress:   0%|          | 0/5000 [00:32<?, ?it/s]"
          ]
        },
        {
          "name": "stdout",
          "output_type": "stream",
          "text": [
            "Step     0: Train loss 4.2999, Val loss 4.3001\n",
            "  -> New best validation loss: 4.3001. Model saved to best_shakespeare_model.pth\n"
          ]
        },
        {
          "name": "stderr",
          "output_type": "stream",
          "text": [
            "Training Progress:   5%|▌         | 251/5000 [03:01<13:26:53, 10.19s/it]"
          ]
        },
        {
          "name": "stdout",
          "output_type": "stream",
          "text": [
            "Step   250: Train loss 2.3349, Val loss 2.3687\n",
            "  -> New best validation loss: 2.3687. Model saved to best_shakespeare_model.pth\n"
          ]
        },
        {
          "name": "stderr",
          "output_type": "stream",
          "text": [
            "Training Progress:  10%|█         | 501/5000 [05:29<12:45:03, 10.20s/it]"
          ]
        },
        {
          "name": "stdout",
          "output_type": "stream",
          "text": [
            "Step   500: Train loss 1.8924, Val loss 2.0067\n",
            "  -> New best validation loss: 2.0067. Model saved to best_shakespeare_model.pth\n"
          ]
        },
        {
          "name": "stderr",
          "output_type": "stream",
          "text": [
            "Training Progress:  15%|█▌        | 751/5000 [07:57<12:02:14, 10.20s/it]"
          ]
        },
        {
          "name": "stdout",
          "output_type": "stream",
          "text": [
            "Step   750: Train loss 1.6438, Val loss 1.8208\n",
            "  -> New best validation loss: 1.8208. Model saved to best_shakespeare_model.pth\n"
          ]
        },
        {
          "name": "stderr",
          "output_type": "stream",
          "text": [
            "Training Progress:  20%|██        | 1001/5000 [10:26<11:19:59, 10.20s/it]"
          ]
        },
        {
          "name": "stdout",
          "output_type": "stream",
          "text": [
            "Step  1000: Train loss 1.4985, Val loss 1.6962\n",
            "  -> New best validation loss: 1.6962. Model saved to best_shakespeare_model.pth\n"
          ]
        },
        {
          "name": "stderr",
          "output_type": "stream",
          "text": [
            "Training Progress:  25%|██▌       | 1251/5000 [12:54<10:37:33, 10.20s/it]"
          ]
        },
        {
          "name": "stdout",
          "output_type": "stream",
          "text": [
            "Step  1250: Train loss 1.4084, Val loss 1.6153\n",
            "  -> New best validation loss: 1.6153. Model saved to best_shakespeare_model.pth\n"
          ]
        },
        {
          "name": "stderr",
          "output_type": "stream",
          "text": [
            "Training Progress:  30%|███       | 1501/5000 [15:22<9:54:52, 10.20s/it]"
          ]
        },
        {
          "name": "stdout",
          "output_type": "stream",
          "text": [
            "Step  1500: Train loss 1.3477, Val loss 1.5790\n",
            "  -> New best validation loss: 1.5790. Model saved to best_shakespeare_model.pth\n"
          ]
        },
        {
          "name": "stderr",
          "output_type": "stream",
          "text": [
            "Training Progress:  35%|███▌      | 1751/5000 [17:51<9:12:26, 10.20s/it]"
          ]
        },
        {
          "name": "stdout",
          "output_type": "stream",
          "text": [
            "Step  1750: Train loss 1.2908, Val loss 1.5349\n",
            "  -> New best validation loss: 1.5349. Model saved to best_shakespeare_model.pth\n"
          ]
        },
        {
          "name": "stderr",
          "output_type": "stream",
          "text": [
            "Training Progress:  40%|████      | 2001/5000 [20:20<8:29:33, 10.19s/it]"
          ]
        },
        {
          "name": "stdout",
          "output_type": "stream",
          "text": [
            "Step  2000: Train loss 1.2481, Val loss 1.5075\n",
            "  -> New best validation loss: 1.5075. Model saved to best_shakespeare_model.pth\n"
          ]
        },
        {
          "name": "stderr",
          "output_type": "stream",
          "text": [
            "Training Progress:  45%|████▌     | 2251/5000 [22:48<7:47:32, 10.20s/it]"
          ]
        },
        {
          "name": "stdout",
          "output_type": "stream",
          "text": [
            "Step  2250: Train loss 1.2072, Val loss 1.5006\n",
            "  -> New best validation loss: 1.5006. Model saved to best_shakespeare_model.pth\n"
          ]
        },
        {
          "name": "stderr",
          "output_type": "stream",
          "text": [
            "Training Progress:  50%|█████     | 2501/5000 [25:16<7:04:54, 10.20s/it]"
          ]
        },
        {
          "name": "stdout",
          "output_type": "stream",
          "text": [
            "Step  2500: Train loss 1.1751, Val loss 1.4952\n",
            "  -> New best validation loss: 1.4952. Model saved to best_shakespeare_model.pth\n"
          ]
        },
        {
          "name": "stderr",
          "output_type": "stream",
          "text": [
            "Training Progress:  55%|█████▌    | 2751/5000 [27:45<6:22:27, 10.20s/it]"
          ]
        },
        {
          "name": "stdout",
          "output_type": "stream",
          "text": [
            "Step  2750: Train loss 1.1429, Val loss 1.4878\n",
            "  -> New best validation loss: 1.4878. Model saved to best_shakespeare_model.pth\n"
          ]
        },
        {
          "name": "stderr",
          "output_type": "stream",
          "text": [
            "Training Progress:  60%|██████    | 3001/5000 [30:14<5:40:34, 10.22s/it]"
          ]
        },
        {
          "name": "stdout",
          "output_type": "stream",
          "text": [
            "Step  3000: Train loss 1.1121, Val loss 1.4823\n",
            "  -> New best validation loss: 1.4823. Model saved to best_shakespeare_model.pth\n"
          ]
        },
        {
          "name": "stderr",
          "output_type": "stream",
          "text": [
            "Training Progress:  65%|██████▌   | 3251/5000 [32:42<4:56:41, 10.18s/it]"
          ]
        },
        {
          "name": "stdout",
          "output_type": "stream",
          "text": [
            "Step  3250: Train loss 1.0786, Val loss 1.4898\n"
          ]
        },
        {
          "name": "stderr",
          "output_type": "stream",
          "text": [
            "Training Progress:  70%|███████   | 3501/5000 [35:11<4:14:40, 10.19s/it]"
          ]
        },
        {
          "name": "stdout",
          "output_type": "stream",
          "text": [
            "Step  3500: Train loss 1.0450, Val loss 1.4814\n",
            "  -> New best validation loss: 1.4814. Model saved to best_shakespeare_model.pth\n"
          ]
        },
        {
          "name": "stderr",
          "output_type": "stream",
          "text": [
            "Training Progress:  75%|███████▌  | 3751/5000 [37:39<3:32:04, 10.19s/it]"
          ]
        },
        {
          "name": "stdout",
          "output_type": "stream",
          "text": [
            "Step  3750: Train loss 1.0180, Val loss 1.4886\n"
          ]
        },
        {
          "name": "stderr",
          "output_type": "stream",
          "text": [
            "Training Progress:  80%|████████  | 4001/5000 [40:08<2:49:13, 10.16s/it]"
          ]
        },
        {
          "name": "stdout",
          "output_type": "stream",
          "text": [
            "Step  4000: Train loss 0.9872, Val loss 1.5047\n"
          ]
        },
        {
          "name": "stderr",
          "output_type": "stream",
          "text": [
            "Training Progress:  85%|████████▌ | 4251/5000 [42:36<2:07:04, 10.18s/it]"
          ]
        },
        {
          "name": "stdout",
          "output_type": "stream",
          "text": [
            "Step  4250: Train loss 0.9589, Val loss 1.5163\n"
          ]
        },
        {
          "name": "stderr",
          "output_type": "stream",
          "text": [
            "Training Progress:  90%|█████████ | 4501/5000 [45:05<1:24:37, 10.18s/it]"
          ]
        },
        {
          "name": "stdout",
          "output_type": "stream",
          "text": [
            "Step  4500: Train loss 0.9287, Val loss 1.5233\n"
          ]
        },
        {
          "name": "stderr",
          "output_type": "stream",
          "text": [
            "Training Progress:  95%|█████████▌| 4750/5000 [47:33<02:30,  1.66it/s]"
          ]
        },
        {
          "name": "stdout",
          "output_type": "stream",
          "text": [
            "Step  4750: Train loss 0.8995, Val loss 1.5485\n",
            "Early stopping triggered at iteration 4750 after 5 evaluation intervals without improvement.\n",
            "--- Training Finished ---\n",
            "Total training time: 47.56 minutes\n",
            "Best validation loss achieved: 1.4814\n",
            "Loading best model weights for generation...\n"
          ]
        },
        {
          "name": "stderr",
          "output_type": "stream",
          "text": [
            "\n"
          ]
        }
      ],
      "source": [
        "# --- 3. Training Loop ---\n",
        "print(f\"Starting training on {DEVICE}...\")\n",
        "\n",
        "# Optimizer (AdamW is a common choice for transformers)\n",
        "optimizer = torch.optim.AdamW(model.parameters(), lr=LEARNING_RATE, betas=(BETA1, BETA2))\n",
        "\n",
        "best_val_loss = float('inf')\n",
        "epochs_no_improve = 0\n",
        "train_loss_history = []\n",
        "val_loss_history = []\n",
        "iter_history = []\n",
        "\n",
        "# For timing\n",
        "overall_start_time = time.time()\n",
        "\n",
        "# Wrap the main loop with tqdm for a progress bar\n",
        "for iter_num in tqdm(range(MAX_ITERS), desc=\"Training Progress\"):\n",
        "    # iter_start_time = time.time() # tqdm provides timing per iteration\n",
        "\n",
        "    # Every EVAL_INTERVAL, estimate loss on train and val sets\n",
        "    if iter_num % EVAL_INTERVAL == 0 or iter_num == MAX_ITERS - 1:\n",
        "        losses = estimate_loss(model) # This already sets model.eval() and model.train()\n",
        "        train_loss_history.append(losses['train'].item())\n",
        "        val_loss_history.append(losses['val'].item())\n",
        "        iter_history.append(iter_num)\n",
        "\n",
        "        # tqdm will show iteration/s, so manual timing print might be redundant\n",
        "        # elapsed_iter_time = time.time() - iter_start_time\n",
        "        # print(f\"Step {iter_num}: Train loss {losses['train']:.4f}, Val loss {losses['val']:.4f}, Iter time: {elapsed_iter_time:.2f}s\")\n",
        "\n",
        "        # Log to tqdm's postfix\n",
        "        tqdm.write(f\"Step {iter_num:5d}: Train loss {losses['train']:.4f}, Val loss {losses['val']:.4f}\")\n",
        "\n",
        "\n",
        "        if losses['val'] < best_val_loss:\n",
        "            best_val_loss = losses['val']\n",
        "            epochs_no_improve = 0\n",
        "            # Save the best model checkpoint to the Colab instance's local storage\n",
        "            # This file will be lost if the Colab runtime is disconnected or reset unless moved.\n",
        "            torch.save(model.state_dict(), 'best_shakespeare_model.pth')\n",
        "            tqdm.write(f\"  -> New best validation loss: {best_val_loss:.4f}. Model saved to best_shakespeare_model.pth\")\n",
        "        else:\n",
        "            epochs_no_improve += 1\n",
        "\n",
        "        if epochs_no_improve >= EARLY_STOPPING_PATIENCE:\n",
        "            tqdm.write(f\"Early stopping triggered at iteration {iter_num} after {EARLY_STOPPING_PATIENCE} evaluation intervals without improvement.\")\n",
        "            break # Exit the training loop\n",
        "\n",
        "    # Sample a batch of data\n",
        "    xb, yb = get_batch('train')\n",
        "\n",
        "    # Forward pass: evaluate loss\n",
        "    logits, loss = model(xb, yb)\n",
        "\n",
        "    # Backward pass and optimization step\n",
        "    optimizer.zero_grad(set_to_none=True) # Zero out gradients from previous iteration\n",
        "    loss.backward()                       # Compute gradients\n",
        "    optimizer.step()                      # Update model parameters\n",
        "\n",
        "overall_end_time = time.time()\n",
        "print(f\"--- Training Finished ---\")\n",
        "print(f\"Total training time: {(overall_end_time - overall_start_time)/60:.2f} minutes\")\n",
        "print(f\"Best validation loss achieved: {best_val_loss:.4f}\")\n",
        "\n",
        "# Load the best model weights after training is complete (or early stopped)\n",
        "# This ensures the 'model' variable holds the best performing weights for generation.\n",
        "if os.path.exists('best_shakespeare_model.pth'):\n",
        "    print(\"Loading best model weights for generation...\")\n",
        "    model.load_state_dict(torch.load('best_shakespeare_model.pth', map_location=DEVICE))\n",
        "else:\n",
        "    print(\"Warning: No 'best_shakespeare_model.pth' found. Using current model state (likely the last trained state) for generation.\")"
      ]
    },
    {
      "cell_type": "markdown",
      "metadata": {
        "id": "hWjsFttMXR5e"
      },
      "source": [
        "## 4. Generating Text with the Trained Model\n",
        "\n",
        "After training (or loading our best checkpoint), our model should have learned the patterns and style of Shakespearean English. Now, we can use it as a generative model:\n",
        "1.  **Provide a Prompt:** We'll give the model a starting sequence of characters (a \"prompt\").\n",
        "2.  **Predict Next Character:** The model will predict the probability distribution for the next character.\n",
        "3.  **Sample:** We'll sample a character from this distribution (we can use `temperature` to control randomness and `top_k` to limit choices).\n",
        "4.  **Append and Repeat:** Append the sampled character to our sequence and feed the new, longer sequence back into the model to generate the next character. We repeat this process to generate new text.\n",
        "\n",
        "Let's see if our model can write some \"new\" Shakespeare!"
      ]
    },
    {
      "cell_type": "code",
      "execution_count": 10,
      "metadata": {
        "colab": {
          "base_uri": "https://localhost:8080/"
        },
        "id": "883M7aH8R-AF",
        "outputId": "3d60b95d-d168-409b-f1e1-f8eb73ab8de1"
      },
      "outputs": [
        {
          "name": "stdout",
          "output_type": "stream",
          "text": [
            "\n",
            "--- Generating Shakespeare-like text ---\n",
            "Starting prompt: 'JULIET:\n",
            "O Romeo, Romeo! wherefore art thou Romeo?'\n",
            "\n",
            "--- Generated Text ---\n",
            "JULIET:\n",
            "O Romeo, Romeo! wherefore art thou Romeo?\n",
            "Arise that thy dead cannot live and me?\n",
            "And like a careerful mother and these fight.\n",
            "\n",
            "JULIET:\n",
            "Was this it with thee? why, thou not likege, what'st thus\n",
            "Thy art disguised out of this death of my good?\n",
            "And so I disguised him to make me a king;\n",
            "And I am his care in power to see his wife\n",
            "To avoid the morning standing of his death.\n",
            "And now, faith, in his head charge him, sir,\n",
            "The pretty is not being to me again.\n",
            "\n",
            "EDWARD:\n",
            "Are you are his open sort must not arm.\n",
            "\n",
            "Second Watchman:\n",
            "I love a corse: the senators that waxed\n",
            "From me to suppose our foe: for him, being still,\n",
            "A man, like a man in honour'd of marriage,\n",
            "Which may see the treasure of your trial,\n",
            "Or else not produce home in his king's;\n",
            "For the worthy earth her lives wound his head,\n",
            "His brother to her was contented next,\n",
            "And all a tired courses where we given him sight,\n",
            "And from the false and the prince for this child.\n",
            "\n",
            "DUCHESS OF YORK:\n",
            "I cannot never saw my lord.\n",
            "Now take the duke, then, to beat our love,\n",
            "We would wash a wife and play'd \n"
          ]
        }
      ],
      "source": [
        "# --- 4. Generate Text ---\n",
        "print(f\"\\n--- Generating Shakespeare-like text ---\")\n",
        "\n",
        "# You can change the starting prompt\n",
        "start_string = \"JULIET:\\nO Romeo, Romeo! wherefore art thou Romeo?\\n\"\n",
        "# start_string = \"To be, or not to be, that is the question:\\n\"\n",
        "# start_string = \"The king is dead\"\n",
        "\n",
        "print(f\"Starting prompt: '{start_string.strip()}'\")\n",
        "\n",
        "start_ids = encode(start_string)\n",
        "# Unsqueeze to add batch dimension: (seq_len) -> (1, seq_len)\n",
        "x_input = torch.tensor(start_ids, dtype=torch.long, device=DEVICE).unsqueeze(0)\n",
        "\n",
        "# Generate text\n",
        "model.eval() # Set model to evaluation mode for generation\n",
        "with torch.no_grad(): # No need to track gradients during generation\n",
        "    generated_ids = model.generate(x_input,\n",
        "                                   max_new_tokens=1000,\n",
        "                                   temperature=0.8, # Controls randomness: lower is less random, higher is more random\n",
        "                                   top_k=20)       # Considers only the top_k most likely tokens at each step\n",
        "\n",
        "generated_text = decode(generated_ids[0].tolist()) # Decode the first (and only) batch item\n",
        "print(\"\\n--- Generated Text ---\")\n",
        "print(generated_text)"
      ]
    },
    {
      "cell_type": "code",
      "execution_count": 11,
      "metadata": {
        "colab": {
          "base_uri": "https://localhost:8080/",
          "height": 564
        },
        "id": "fhFw5opUSBFA",
        "outputId": "e23a64ac-856f-4a31-855c-06e892e91fbf"
      },
      "outputs": [
        {
          "data": {
            "image/png": "[encoded data removed]",
            "text/plain": [
              "<Figure size 1000x600 with 1 Axes>"
            ]
          },
          "metadata": {},
          "output_type": "display_data"
        }
      ],
      "source": [
        "import matplotlib.pyplot as plt\n",
        "\n",
        "if train_loss_history and val_loss_history:\n",
        "    plt.figure(figsize=(10, 6))\n",
        "    plt.plot(iter_history, train_loss_history, label='Training Loss')\n",
        "    plt.plot(iter_history, val_loss_history, label='Validation Loss')\n",
        "    plt.xlabel(f'Iteration (x{1})') # Since iter_history stores actual iteration numbers\n",
        "    plt.ylabel('Loss')\n",
        "    plt.title('Training and Validation Loss Over Iterations')\n",
        "    plt.legend()\n",
        "    plt.grid(True)\n",
        "    plt.show()\n",
        "else:\n",
        "    print(\"No loss history to plot. Did training run?\")"
      ]
    },
    {
      "cell_type": "markdown",
      "metadata": {
        "id": "-xrUrvc3XZeg"
      },
      "source": [
        "## Congratulations and Further Exploration!\n",
        "\n",
        "You've successfully built, trained, and generated text with a character-level GPT model! This is a significant achievement and provides a solid foundation for understanding modern Large Language Models.\n",
        "\n",
        "Here are some exercises and avenues for further exploration to deepen your understanding:\n",
        "\n",
        "**1. Deep Dive into the Code:**\n",
        "    *   **Meticulously study the `CausalSelfAttention`, `Block`, and `GPT` classes.** Add print statements inside their `forward` methods to trace the shapes of tensors at each step.\n",
        "    *   **Understand every line:** If any line of code is unclear, research it or ask! Pay close attention to tensor manipulations (e.g., `view`, `transpose`, `@` for matrix multiplication).\n",
        "\n",
        "**2. Tensor Shapes and Outputs:**\n",
        "    *   Before and during training, **print out the shapes** of `q`, `k`, `v`, and `att` in the `CausalSelfAttention` module. How do they relate to `BATCH_SIZE`, `BLOCK_SIZE`, `N_HEAD`, and `N_EMBD`?\n",
        "    *   Examine the `logits` output by the model. What does `logits.shape` tell you? How does `F.cross_entropy` use these logits and the target `yb`?\n",
        "    *   What happens if you change `BLOCK_SIZE`? How does it affect memory and the model's \"context window\"?\n",
        "\n",
        "**3. The Magic of Attention (Advanced):**\n",
        "    *   **Extract Attention Weights:** After training, try to visualize or inspect the attention weights. For a given input sequence, which previous tokens does a particular token \"attend\" to most strongly?\n",
        "        *Hint:* The `att` variable inside `CausalSelfAttention.forward` (after `softmax`) holds the attention probabilities. You'll need to run a forward pass with a specific input and capture this tensor.\n",
        "        ```python\n",
        "        # Example: How to potentially get attention weights for a specific layer/head\n",
        "        # model.eval()\n",
        "        # xb_sample, _ = get_batch('val') # Get a sample batch\n",
        "        # specific_block = model.transformer.h[0].attn # e.g., attention in the first block\n",
        "        \n",
        "        # To get 'att' you might need to modify CausalSelfAttention to return it,\n",
        "        # or use PyTorch hooks (more advanced).\n",
        "        # A simpler way for inspection is to add a temporary print inside forward:\n",
        "        # if some_condition_to_print: print(att[0, 0, :, :].detach().cpu().numpy()) # Example for 1st batch, 1st head\n",
        "        ```\n",
        "    *   **(Challenge):** Try to implement a simplified version of the scaled dot-product attention mechanism (`(Q @ K.T) / sqrt(d_k)`) yourself as a standalone function using basic PyTorch tensor operations. Compare its output for a sample Q, K, V with the `att @ v` part of the `CausalSelfAttention` module (before dropout and projection).\n",
        "\n",
        "**4. Hyperparameter Tuning:**\n",
        "    *   Experiment with `LEARNING_RATE`, `N_LAYER`, `N_HEAD`, `N_EMBD`, `DROPOUT`. How do these changes affect training speed, final validation loss, and the quality of generated text?\n",
        "    *   What happens if you significantly increase `MAX_ITERS` (and adjust `EARLY_STOPPING_PATIENCE` if needed)? Can you get a lower validation loss? (Be mindful of Colab time limits).\n",
        "    *   Try different `temperature` and `top_k` values during generation. How does it change the output?\n",
        "\n",
        "**5. Beyond Characters:**\n",
        "    *   Conceptually, how would you adapt this model to work with words or sub-word units instead of characters? What parts of the code would need to change significantly? (This is a big step, more for conceptual understanding).\n",
        "\n",
        "**6. Come Up With More Exercises!**\n",
        "    *   What other aspects of the model or training process are you curious about? Design an experiment to investigate it! For example:\n",
        "        *   How does weight initialization affect training?\n",
        "        *   What if you remove positional embeddings?\n",
        "        *   Can you train on a different small text dataset?\n",
        "\n"
      ]
    },
    {
      "cell_type": "markdown",
      "metadata": {},
      "source": [
        "## Bonus: Saving and Loading Your Trained Model\n",
        "\n",
        "During training, our script saves the best performing model (based on validation loss) to a file named `best_shakespeare_model.pth` in the current Colab session's temporary storage.\n",
        "\n",
        "**Important:** Files saved directly in the Colab environment are temporary and will be **deleted** when your Colab runtime is disconnected or reset.\n",
        "\n",
        "Here's how you can permanently save your model and load it back:\n",
        "\n",
        "#### Option 1: Downloading the Model to Your Local Computer\n",
        "\n",
        "Once training is complete and `best_shakespeare_model.pth` has been saved by the script:\n",
        "\n",
        "1.  **Locate the File:** In the Colab interface, click on the \"Files\" icon (looks like a folder) in the left sidebar. You should see `best_shakespeare_model.pth` listed.\n",
        "2.  **Download:** Right-click on `best_shakespeare_model.pth` and select \"Download\". The file will be saved to your computer's default downloads folder.\n",
        "\n",
        "To load this model back into a *new* Colab session (or on your local machine if you have PyTorch set up):\n",
        "1.  Upload the `.pth` file back to the Colab session (using the \"Upload to session storage\" button in the Files tab).\n",
        "2.  Then, in your code, you can load it (make sure your model architecture is defined first):\n",
        "    ```python\n",
        "    # # --- Code to define the GPT model and GPTConfig must be run first ---\n",
        "    # model_config = GPTConfig(vocab_size=vocab_size, ...) # Use the same config as training\n",
        "    # model = GPT(model_config)\n",
        "    # model.to(DEVICE)\n",
        "    #\n",
        "    # # Load the state dictionary\n",
        "    # model_path = 'best_shakespeare_model.pth' # Or whatever you named it when uploading\n",
        "    # if os.path.exists(model_path):\n",
        "    #     model.load_state_dict(torch.load(model_path, map_location=DEVICE))\n",
        "    #     model.eval() # Set to evaluation mode\n",
        "    #     print(f\"Model loaded from {model_path}\")\n",
        "    # else:\n",
        "    #     print(f\"Model file not found at {model_path}\")\n",
        "    ```\n",
        "\n",
        "#### Option 2 (untested!): Saving the Model to Your Google Drive\n",
        "\n",
        "This is a more robust way to save your model for long-term storage and easy access across Colab sessions.\n",
        "\n",
        "1.  **Mount Your Google Drive:**\n",
        "    Run the following code in a cell. You'll be prompted to authorize Colab to access your Google Drive.\n",
        "    ```python\n",
        "    from google.colab import drive\n",
        "    drive.mount('/content/drive')\n",
        "    ```\n",
        "\n",
        "2.  **Define a Save Path on Your Drive:**\n",
        "    Choose a folder and filename on your Google Drive. It's good practice to create a specific folder for your models.\n",
        "    ```python\n",
        "    # Example save path (modify as needed)\n",
        "    # This will save to a folder named 'MyModels' in the root of your Google Drive.\n",
        "    # Make sure the 'MyModels' folder exists, or create it.\n",
        "    drive_save_path = '/content/drive/MyDrive/MyModels/best_shakespeare_char_gpt.pth'\n",
        "    \n",
        "    # You might want to create the directory if it doesn't exist:\n",
        "    # import os\n",
        "    # os.makedirs(os.path.dirname(drive_save_path), exist_ok=True)\n",
        "    ```\n",
        "\n",
        "3.  **Modify the Training Loop to Save to Drive (or Save Manually After Training):**\n",
        "    *   **To save during training:** In Cell 9 (Training Loop), change the line:\n",
        "        `torch.save(model.state_dict(), 'best_shakespeare_model.pth')`\n",
        "        to:\n",
        "        `torch.save(model.state_dict(), drive_save_path)`\n",
        "    *   **To save manually after training is complete:**\n",
        "        ```python\n",
        "        # # Assuming 'model' is your trained model and 'drive_save_path' is defined\n",
        "        # torch.save(model.state_dict(), drive_save_path)\n",
        "        # print(f\"Model saved to Google Drive: {drive_save_path}\")\n",
        "        ```\n",
        "\n",
        "4.  **Loading the Model from Google Drive:**\n",
        "    In a new session, after mounting your Drive and defining your model architecture:\n",
        "    ```python\n",
        "    # # --- Mount Drive and define model architecture first ---\n",
        "    # from google.colab import drive\n",
        "    # drive.mount('/content/drive')\n",
        "    #\n",
        "    # # model_config = GPTConfig(vocab_size=vocab_size, ...)\n",
        "    # # model = GPT(model_config)\n",
        "    # # model.to(DEVICE)\n",
        "    #\n",
        "    # drive_model_path = '/content/drive/MyDrive/MyModels/best_shakespeare_char_gpt.pth' # Use the same path\n",
        "    # if os.path.exists(drive_model_path):\n",
        "    #     model.load_state_dict(torch.load(drive_model_path, map_location=DEVICE))\n",
        "    #     model.eval() # Set to evaluation mode\n",
        "    #     print(f\"Model loaded from Google Drive: {drive_model_path}\")\n",
        "    # else:\n",
        "    #     print(f\"Model file not found at {drive_model_path}\")\n",
        "    ```\n",
        "\n"
      ]
    },
    {
      "cell_type": "code",
      "execution_count": 11,
      "metadata": {
        "id": "0v26ISDuSEoo"
      },
      "outputs": [],
      "source": []
    }
  ],
  "metadata": {
    "accelerator": "GPU",
    "colab": {
      "gpuType": "T4",
      "provenance": []
    },
    "kernelspec": {
      "display_name": "Python 3",
      "name": "python3"
    },
    "language_info": {
      "name": "python"
    }
  },
  "nbformat": 4,
  "nbformat_minor": 0
}
